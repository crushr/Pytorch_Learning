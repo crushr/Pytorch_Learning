{
 "cells": [
  {
   "cell_type": "markdown",
   "source": [
    "## QuickStart from pytorch_tutorials"
   ],
   "metadata": {}
  },
  {
   "cell_type": "code",
   "execution_count": 2,
   "source": [
    "\"\"\"导包\"\"\"\n",
    "import torch\n",
    "from torch import nn\n",
    "# torch.utils.data.Dataset和torch.utils.data.DataLoader是pytorch的两大关键原语\n",
    "# Dataset存储样本和对应标签，DataLoader将Dataset包装成一个可迭代的对象\n",
    "from torch.utils.data import DataLoader\n",
    "from torchvision import datasets\n",
    "from torchvision.transforms import ToTensor"
   ],
   "outputs": [],
   "metadata": {}
  },
  {
   "cell_type": "code",
   "execution_count": 4,
   "source": [
    "\"\"\"下载数据集\"\"\"\n",
    "# torchvision.datasets包含很多真实世界的数据集如CIFAR、COCO\n",
    "# 本例中使用FashionMNIST数据集\n",
    "# 每个torchvision的数据集都包含两个参数，transform和target_transform，分别修改样本和标签。\n",
    "\n",
    "training_data = datasets.FashionMNIST(\n",
    "    root=\"data\",\n",
    "    train=True,\n",
    "    download=True,\n",
    "    transform=ToTensor(),\n",
    ")\n",
    "\n",
    "test_data = datasets.FashionMNIST(\n",
    "    root=\"data\",\n",
    "    train=False,\n",
    "    download=True,\n",
    "    transform=ToTensor(),\n",
    ")"
   ],
   "outputs": [
    {
     "output_type": "stream",
     "name": "stdout",
     "text": [
      "Downloading http://fashion-mnist.s3-website.eu-central-1.amazonaws.com/train-images-idx3-ubyte.gz\n",
      "Downloading http://fashion-mnist.s3-website.eu-central-1.amazonaws.com/train-images-idx3-ubyte.gz to data/FashionMNIST/raw/train-images-idx3-ubyte.gz\n"
     ]
    },
    {
     "output_type": "stream",
     "name": "stderr",
     "text": [
      "26422272it [00:03, 7852378.84it/s]                               \n"
     ]
    },
    {
     "output_type": "stream",
     "name": "stdout",
     "text": [
      "Extracting data/FashionMNIST/raw/train-images-idx3-ubyte.gz to data/FashionMNIST/raw\n",
      "\n",
      "Downloading http://fashion-mnist.s3-website.eu-central-1.amazonaws.com/train-labels-idx1-ubyte.gz\n",
      "Downloading http://fashion-mnist.s3-website.eu-central-1.amazonaws.com/train-labels-idx1-ubyte.gz to data/FashionMNIST/raw/train-labels-idx1-ubyte.gz\n"
     ]
    },
    {
     "output_type": "stream",
     "name": "stderr",
     "text": [
      "29696it [00:00, 136812.60it/s]                           \n"
     ]
    },
    {
     "output_type": "stream",
     "name": "stdout",
     "text": [
      "Extracting data/FashionMNIST/raw/train-labels-idx1-ubyte.gz to data/FashionMNIST/raw\n",
      "\n",
      "Downloading http://fashion-mnist.s3-website.eu-central-1.amazonaws.com/t10k-images-idx3-ubyte.gz\n",
      "Downloading http://fashion-mnist.s3-website.eu-central-1.amazonaws.com/t10k-images-idx3-ubyte.gz to data/FashionMNIST/raw/t10k-images-idx3-ubyte.gz\n"
     ]
    },
    {
     "output_type": "stream",
     "name": "stderr",
     "text": [
      "4422656it [00:02, 1905888.36it/s]                             \n"
     ]
    },
    {
     "output_type": "stream",
     "name": "stdout",
     "text": [
      "Extracting data/FashionMNIST/raw/t10k-images-idx3-ubyte.gz to data/FashionMNIST/raw\n",
      "\n",
      "Downloading http://fashion-mnist.s3-website.eu-central-1.amazonaws.com/t10k-labels-idx1-ubyte.gz\n",
      "Downloading http://fashion-mnist.s3-website.eu-central-1.amazonaws.com/t10k-labels-idx1-ubyte.gz to data/FashionMNIST/raw/t10k-labels-idx1-ubyte.gz\n"
     ]
    },
    {
     "output_type": "stream",
     "name": "stderr",
     "text": [
      "6144it [00:00, 14120440.43it/s]         "
     ]
    },
    {
     "output_type": "stream",
     "name": "stdout",
     "text": [
      "Extracting data/FashionMNIST/raw/t10k-labels-idx1-ubyte.gz to data/FashionMNIST/raw\n",
      "\n"
     ]
    },
    {
     "output_type": "stream",
     "name": "stderr",
     "text": [
      "\n",
      "/Users/zhongshannan/opt/anaconda3/envs/Py38/lib/python3.8/site-packages/torchvision/datasets/mnist.py:498: UserWarning: The given NumPy array is not writeable, and PyTorch does not support non-writeable tensors. This means you can write to the underlying (supposedly non-writeable) NumPy array using the tensor. You may want to copy the array to protect its data or make it writeable before converting it to a tensor. This type of warning will be suppressed for the rest of this program. (Triggered internally at  /Users/distiller/project/conda/conda-bld/pytorch_1623459044803/work/torch/csrc/utils/tensor_numpy.cpp:180.)\n",
      "  return torch.from_numpy(parsed.astype(m[2], copy=False)).view(*s)\n"
     ]
    }
   ],
   "metadata": {}
  },
  {
   "cell_type": "code",
   "execution_count": 5,
   "source": [
    "\"\"\"创建dataloader\"\"\"\n",
    "# 将Dataset作为参数传递给DataLoader\n",
    "# 对数据集包装成迭代，以支持自动批处理、采样、重组和多进程数据加载\n",
    "# 设置batch size为64，即每次DataLoader迭代会返回一组64个的特征和标签\n",
    "\n",
    "batch_size = 64\n",
    "train_dataloader = DataLoader(training_data, batch_size=batch_size)\n",
    "test_dataloader = DataLoader(test_data, batch_size=batch_size)"
   ],
   "outputs": [],
   "metadata": {}
  },
  {
   "cell_type": "code",
   "execution_count": 7,
   "source": [
    "for X, y in test_dataloader:\n",
    "    print(f\"X.shape:{X.shape}\")\n",
    "    print(f\"y.shape:{y.shape}\")\n",
    "    break ## 印证batch_size=64"
   ],
   "outputs": [
    {
     "output_type": "stream",
     "name": "stdout",
     "text": [
      "X.shape:torch.Size([64, 1, 28, 28])\n",
      "y.shape:torch.Size([64])\n"
     ]
    }
   ],
   "metadata": {}
  },
  {
   "cell_type": "markdown",
   "source": [
    "## 创建模型"
   ],
   "metadata": {}
  },
  {
   "cell_type": "code",
   "execution_count": 9,
   "source": [
    "# 选择gpu/cpu\n",
    "device = \"cuda\" if torch.cuda.is_available() else \"cpu\"\n",
    "print(f\"使用:{device} device\")"
   ],
   "outputs": [
    {
     "output_type": "stream",
     "name": "stdout",
     "text": [
      "使用:cpu device\n"
     ]
    }
   ],
   "metadata": {}
  },
  {
   "cell_type": "code",
   "execution_count": 11,
   "source": [
    "# 定义模型\n",
    "class Net(nn.Module):\n",
    "    def __init__(self):  # 定义__init__方法\n",
    "        super(Net, self).__init__() # 继承Net的父类nn.module中的方法\n",
    "        self.flatten = nn.Flatten() # 创建flatten\n",
    "        self.linear_relu_stack = nn.Sequential(  # 创建linear_relu_stack\n",
    "            nn.Linear(28*28, 512),\n",
    "            nn.ReLU(),\n",
    "            nn.Linear(512, 512),\n",
    "            nn.ReLU(),\n",
    "            nn.Linear(512,10)\n",
    "        )\n",
    "\n",
    "    def forward(self, x):  # 向前传播\n",
    "        x = self.flatten(x)\n",
    "        logits = self.linear_relu_stack(x)\n",
    "        return logits\n",
    "\n",
    "model = Net().to(device) # 将模型copy到device上一份\n",
    "print(model)"
   ],
   "outputs": [
    {
     "output_type": "stream",
     "name": "stdout",
     "text": [
      "Net(\n",
      "  (flatten): Flatten(start_dim=1, end_dim=-1)\n",
      "  (linear_relu_stack): Sequential(\n",
      "    (0): Linear(in_features=784, out_features=512, bias=True)\n",
      "    (1): ReLU()\n",
      "    (2): Linear(in_features=512, out_features=512, bias=True)\n",
      "    (3): ReLU()\n",
      "    (4): Linear(in_features=512, out_features=10, bias=True)\n",
      "  )\n",
      ")\n"
     ]
    }
   ],
   "metadata": {}
  },
  {
   "cell_type": "markdown",
   "source": [
    "## 优化模型参数"
   ],
   "metadata": {}
  },
  {
   "cell_type": "code",
   "execution_count": 12,
   "source": [
    "# 训练模型需要一个损失函数和一个优化器\n",
    "loss_fn = nn.CrossEntropyLoss()\n",
    "optimizer = torch.optim.SGD(model.parameters(), lr=1e-3)"
   ],
   "outputs": [],
   "metadata": {}
  },
  {
   "cell_type": "markdown",
   "source": [
    "## 训练，反向传播"
   ],
   "metadata": {}
  },
  {
   "cell_type": "code",
   "execution_count": 13,
   "source": [
    "# 在单次训练循环中，模型对训练数据集进行预测\n",
    "# 按照batch_size输入至模型中，并反向传播预测误差以调整模型的参数\n",
    "def train(dataloader, model, loss_fn, optimizer):\n",
    "    size = len(dataloader.dataset) \n",
    "    model.train() # 训练模式\n",
    "    for batch, (X, y) in enumerate(dataloader):\n",
    "        X, y = X.to(device), y.to(device) # 将数据copy到device上一份\n",
    "\n",
    "        # 计算预测误差\n",
    "        pred = model(X)\n",
    "        loss = loss_fn(pred, y)\n",
    "    \n",
    "        #反向传播\n",
    "        optimizer.zero_grad() # 梯度清零\n",
    "        loss.backward() # loss自动取得平均\n",
    "        optimizer.step()\n",
    "\n",
    "        if batch % 100 == 0: # 每100个batch输出\n",
    "            loss, current = loss.item(), batch*len(X) #batch*batch_size\n",
    "            print(f\"loss: {loss:>7f} [{current:>5d}/{size:>5f}]\")"
   ],
   "outputs": [],
   "metadata": {}
  },
  {
   "cell_type": "code",
   "execution_count": 14,
   "source": [
    "# 测试模型性能\n",
    "def test(dataloader, model, loss_fn):\n",
    "    size = len(dataloader.dataset)\n",
    "    num_batchs = len(dataloader) # 测试batch数量,为了求平均loss\n",
    "    model.eval() # 评估模式\n",
    "    test_loss, correct = 0, 0\n",
    "    with torch.no_grad(): # 测试阶段无梯度参与,模型固定\n",
    "        for X, y in dataloader:\n",
    "            X, y = X.to(device), y.to(device)\n",
    "            pred = model(X)\n",
    "            test_loss += loss_fn(pred, y).item()  #loss手动取平均\n",
    "            correct += (pred.argmax(1) == y).type(torch.float).sum().item() # 统计预测准确的个数\n",
    "    test_loss /= num_batchs\n",
    "    correct /= size\n",
    "    print(f\"Test Erorr: \\n Acc:{(100*correct):>0.1f}%, Avg loss: {test_loss:>8f} \\n\")"
   ],
   "outputs": [],
   "metadata": {}
  },
  {
   "cell_type": "markdown",
   "source": [
    "## 输出结果"
   ],
   "metadata": {}
  },
  {
   "cell_type": "code",
   "execution_count": 15,
   "source": [
    "# 训练经过多个迭代过程，合并视为1个epochs\n",
    "# 分别打印出每个epoch的准确率增加和损失减少\n",
    "epochs = 5\n",
    "for t in range(epochs):\n",
    "    print(f\"Epoch{t+1}\\n------------------\")\n",
    "    train(train_dataloader,model,loss_fn,optimizer)\n",
    "    test(test_dataloader,model,loss_fn)\n",
    "print(\"Finish!\")"
   ],
   "outputs": [
    {
     "output_type": "stream",
     "name": "stdout",
     "text": [
      "Epoch1\n",
      "------------------\n",
      "loss: 2.303030 [    0/60000.000000]\n",
      "loss: 2.289198 [ 6400/60000.000000]\n",
      "loss: 2.266241 [12800/60000.000000]\n",
      "loss: 2.256635 [19200/60000.000000]\n",
      "loss: 2.242709 [25600/60000.000000]\n",
      "loss: 2.204225 [32000/60000.000000]\n",
      "loss: 2.215483 [38400/60000.000000]\n",
      "loss: 2.178748 [44800/60000.000000]\n",
      "loss: 2.176834 [51200/60000.000000]\n",
      "loss: 2.135964 [57600/60000.000000]\n",
      "Test Erorr: \n",
      " Acc:51.3%, Avg loss: 2.135379 \n",
      "\n",
      "Epoch2\n",
      "------------------\n",
      "loss: 2.145486 [    0/60000.000000]\n",
      "loss: 2.140833 [ 6400/60000.000000]\n",
      "loss: 2.076876 [12800/60000.000000]\n",
      "loss: 2.094315 [19200/60000.000000]\n",
      "loss: 2.040385 [25600/60000.000000]\n",
      "loss: 1.969397 [32000/60000.000000]\n",
      "loss: 2.004328 [38400/60000.000000]\n",
      "loss: 1.915445 [44800/60000.000000]\n",
      "loss: 1.929653 [51200/60000.000000]\n",
      "loss: 1.842666 [57600/60000.000000]\n",
      "Test Erorr: \n",
      " Acc:55.0%, Avg loss: 1.847014 \n",
      "\n",
      "Epoch3\n",
      "------------------\n",
      "loss: 1.882837 [    0/60000.000000]\n",
      "loss: 1.858758 [ 6400/60000.000000]\n",
      "loss: 1.731044 [12800/60000.000000]\n",
      "loss: 1.777550 [19200/60000.000000]\n",
      "loss: 1.669596 [25600/60000.000000]\n",
      "loss: 1.612598 [32000/60000.000000]\n",
      "loss: 1.643893 [38400/60000.000000]\n",
      "loss: 1.536263 [44800/60000.000000]\n",
      "loss: 1.579389 [51200/60000.000000]\n",
      "loss: 1.464276 [57600/60000.000000]\n",
      "Test Erorr: \n",
      " Acc:60.5%, Avg loss: 1.485023 \n",
      "\n",
      "Epoch4\n",
      "------------------\n",
      "loss: 1.554103 [    0/60000.000000]\n",
      "loss: 1.527068 [ 6400/60000.000000]\n",
      "loss: 1.370603 [12800/60000.000000]\n",
      "loss: 1.448090 [19200/60000.000000]\n",
      "loss: 1.335659 [25600/60000.000000]\n",
      "loss: 1.325468 [32000/60000.000000]\n",
      "loss: 1.344360 [38400/60000.000000]\n",
      "loss: 1.261340 [44800/60000.000000]\n",
      "loss: 1.311522 [51200/60000.000000]\n",
      "loss: 1.208982 [57600/60000.000000]\n",
      "Test Erorr: \n",
      " Acc:63.8%, Avg loss: 1.232236 \n",
      "\n",
      "Epoch5\n",
      "------------------\n",
      "loss: 1.307197 [    0/60000.000000]\n",
      "loss: 1.296749 [ 6400/60000.000000]\n",
      "loss: 1.126277 [12800/60000.000000]\n",
      "loss: 1.236701 [19200/60000.000000]\n",
      "loss: 1.116637 [25600/60000.000000]\n",
      "loss: 1.136634 [32000/60000.000000]\n",
      "loss: 1.160129 [38400/60000.000000]\n",
      "loss: 1.088850 [44800/60000.000000]\n",
      "loss: 1.143404 [51200/60000.000000]\n",
      "loss: 1.056943 [57600/60000.000000]\n",
      "Test Erorr: \n",
      " Acc:65.2%, Avg loss: 1.073554 \n",
      "\n",
      "Finish!\n"
     ]
    }
   ],
   "metadata": {}
  },
  {
   "cell_type": "markdown",
   "source": [
    "## 保存模型"
   ],
   "metadata": {}
  },
  {
   "cell_type": "code",
   "execution_count": 16,
   "source": [
    "# 序列化模型内部状态字典，包含模型参数\n",
    "torch.save(model.state_dict(), \"model.pth\")\n",
    "print(\"模型保存至model.pth\")"
   ],
   "outputs": [
    {
     "output_type": "stream",
     "name": "stdout",
     "text": [
      "模型保存至model.pth\n"
     ]
    }
   ],
   "metadata": {}
  },
  {
   "cell_type": "markdown",
   "source": [
    "## 加载模型"
   ],
   "metadata": {}
  },
  {
   "cell_type": "code",
   "execution_count": 17,
   "source": [
    "# 重新创建模型结构，并将状态字典加载到模型中\n",
    "model = Net()\n",
    "model.load_state_dict(torch.load(\"model.pth\"))"
   ],
   "outputs": [
    {
     "output_type": "execute_result",
     "data": {
      "text/plain": [
       "<All keys matched successfully>"
      ]
     },
     "metadata": {},
     "execution_count": 17
    }
   ],
   "metadata": {}
  },
  {
   "cell_type": "code",
   "execution_count": 20,
   "source": [
    "# 利用加载模型进行一些预测\n",
    "classes = [\n",
    "    \"T-shirt/top\",\n",
    "    \"Trouser\",\n",
    "    \"Pullover\",\n",
    "    \"Dress\",\n",
    "    \"Coat\",\n",
    "    \"Sandal\",\n",
    "    \"Shirt\",\n",
    "    \"Sneaker\",\n",
    "    \"Bag\",\n",
    "    \"Ankle boot\",\n",
    "]\n",
    "\n",
    "model.eval() # 评估模式\n",
    "x, y = test_data[0][0], test_data[0][1]\n",
    "with torch.no_grad():\n",
    "    pred = model(x)\n",
    "    predicted = classes[pred[0].argmax(0)] # .argmax(0)取一行中最大的值\n",
    "    actual = classes[y]\n",
    "    print(pred)\n",
    "    print(f'Predicted: \"{predicted}\", Actual: \"{actual}\"')"
   ],
   "outputs": [
    {
     "output_type": "stream",
     "name": "stdout",
     "text": [
      "tensor([[-1.9601, -2.4649, -0.9004, -1.6704, -1.1302,  2.3281, -1.0269,  2.5501,\n",
      "          1.7633,  2.9714]])\n",
      "Predicted: \"Ankle boot\", Actual: \"Ankle boot\"\n"
     ]
    }
   ],
   "metadata": {}
  },
  {
   "cell_type": "code",
   "execution_count": null,
   "source": [],
   "outputs": [],
   "metadata": {}
  }
 ],
 "metadata": {
  "orig_nbformat": 4,
  "language_info": {
   "name": "python",
   "version": "3.8.11",
   "mimetype": "text/x-python",
   "codemirror_mode": {
    "name": "ipython",
    "version": 3
   },
   "pygments_lexer": "ipython3",
   "nbconvert_exporter": "python",
   "file_extension": ".py"
  },
  "kernelspec": {
   "name": "python3",
   "display_name": "Python 3.8.11 64-bit ('Py38': conda)"
  },
  "interpreter": {
   "hash": "62792cbd3b5bf2807c49140b9dd77f3574e6f3863eef786f6f586b1ba9747cfd"
  }
 },
 "nbformat": 4,
 "nbformat_minor": 2
}