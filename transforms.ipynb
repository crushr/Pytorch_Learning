{
 "cells": [
  {
   "cell_type": "markdown",
   "source": [
    "## Transforms\n",
    "数据并不总是以训练机器学习算法所需的最终处理形式出现。我们使用转换来对数据执行一些操作，并使其适合于训练。  \n",
    "\n",
    "所有的TorchVision数据集都有两个参数——transform用来修改特性;  \n",
    "target_transform用来修改标签;\n",
    "torchvision.Transforms模块提供了几个常用的开箱即用转换的方法。  \n",
    "\n",
    "FashionMNIST特性采用PIL的图像格式，标签为整数。  \n",
    "在训练中，我们需要特征作为标准化张量，标签作为onehot编码张量。为了做这些变换，我们使用ToTensor和Lambda。"
   ],
   "metadata": {}
  },
  {
   "cell_type": "code",
   "execution_count": 3,
   "source": [
    "import torch\n",
    "from torchvision import datasets\n",
    "from torchvision.transforms import ToTensor, Lambda\n",
    "\n",
    "ds = datasets.FashionMNIST(\n",
    "    root = \"data\",\n",
    "    train = True,\n",
    "    download = False,\n",
    "    transform = ToTensor(),\n",
    "    target_transform = Lambda(lambda y: torch.zeros(10, \n",
    "                            dtype=torch.float).scatter_(0, torch.tensor(y), value=1)) #转换为onehot编码\n",
    ")"
   ],
   "outputs": [
    {
     "output_type": "stream",
     "name": "stderr",
     "text": [
      "/Users/zhongshannan/opt/anaconda3/envs/Py38/lib/python3.8/site-packages/torchvision/datasets/mnist.py:498: UserWarning: The given NumPy array is not writeable, and PyTorch does not support non-writeable tensors. This means you can write to the underlying (supposedly non-writeable) NumPy array using the tensor. You may want to copy the array to protect its data or make it writeable before converting it to a tensor. This type of warning will be suppressed for the rest of this program. (Triggered internally at  /Users/distiller/project/conda/conda-bld/pytorch_1623459044803/work/torch/csrc/utils/tensor_numpy.cpp:180.)\n",
      "  return torch.from_numpy(parsed.astype(m[2], copy=False)).view(*s)\n"
     ]
    }
   ],
   "metadata": {}
  },
  {
   "cell_type": "markdown",
   "source": [
    "ToTensor 将 PIL 图像或 NumPy ndarray 转换为 FloatTensor。并在[0., 1.]范围内缩放图像的像素强度值  \n",
    "\n",
    "Lambda转换应用任何用户定义的Lambda函数。在这里，我们定义了一个函数来将整数转换为一个onehot编码张量。它首先创建一个0张量，大小为10(我们的数据集中标签的数量)，然后调用scatter_，它为标签y给定的索引赋值=1。"
   ],
   "metadata": {}
  }
 ],
 "metadata": {
  "orig_nbformat": 4,
  "language_info": {
   "name": "python",
   "version": "3.8.11",
   "mimetype": "text/x-python",
   "codemirror_mode": {
    "name": "ipython",
    "version": 3
   },
   "pygments_lexer": "ipython3",
   "nbconvert_exporter": "python",
   "file_extension": ".py"
  },
  "kernelspec": {
   "name": "python3",
   "display_name": "Python 3.8.11 64-bit ('Py38': conda)"
  },
  "interpreter": {
   "hash": "62792cbd3b5bf2807c49140b9dd77f3574e6f3863eef786f6f586b1ba9747cfd"
  }
 },
 "nbformat": 4,
 "nbformat_minor": 2
}