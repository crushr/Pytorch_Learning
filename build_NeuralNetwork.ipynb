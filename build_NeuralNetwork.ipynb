{
 "cells": [
  {
   "cell_type": "markdown",
   "source": [
    "## 搭建神经网络\n",
    "\n",
    "神经网络由对数据进行操作的layers/modules组成。  \n",
    "torch.nn的命名空间提供了构建神经网络所需的所有构建模块。  \n",
    "所有模块都在pytorch的子类nn.Module里。  \n",
    "一个神经网络本身就是由其他模块（层）组成的模块，这样的嵌套结构允许轻松地构建和管理复杂的体系结构。  \n",
    "\n",
    "本例中，我们搭建一个神经网络对FashionMNIST数据集中的图像进行分类。"
   ],
   "metadata": {}
  },
  {
   "cell_type": "code",
   "execution_count": 2,
   "source": [
    "import os\n",
    "import torch\n",
    "from torch import nn\n",
    "from torch.utils.data import DataLoader\n",
    "from torchvision import datasets, transforms"
   ],
   "outputs": [],
   "metadata": {}
  },
  {
   "cell_type": "code",
   "execution_count": 3,
   "source": [
    "# device\n",
    "device = 'cuda' if torch.cuda.is_available() else 'cpu'\n",
    "print(f'using {device} device')"
   ],
   "outputs": [
    {
     "output_type": "stream",
     "name": "stdout",
     "text": [
      "using cpu device\n"
     ]
    }
   ],
   "metadata": {}
  },
  {
   "cell_type": "code",
   "execution_count": 4,
   "source": [
    "# 定义网络\n",
    "class NeuralNetwork(nn.Module):\n",
    "    def __init__(self):\n",
    "        super(NeuralNetwork, self).__init__()\n",
    "        self.flatten = nn.Flatten()\n",
    "        self.linear_relu_stack = nn.Sequential(\n",
    "            nn.Linear(28*28, 512),\n",
    "            nn.ReLU(),\n",
    "            nn.Linear(512, 512),\n",
    "            nn.ReLU(),\n",
    "            nn.Linear(512, 10),\n",
    "        )\n",
    "    \n",
    "    def forward(self, x):\n",
    "        x = self.flatten(x)\n",
    "        logits = self.linear_relu_stack(x)\n",
    "        return logits"
   ],
   "outputs": [],
   "metadata": {}
  },
  {
   "cell_type": "code",
   "execution_count": 5,
   "source": [
    "# 创建NeuralNetwork的一个实例，并将其转移到device中，打印模型结构\n",
    "model = NeuralNetwork().to(device)\n",
    "print(model)"
   ],
   "outputs": [
    {
     "output_type": "stream",
     "name": "stdout",
     "text": [
      "NeuralNetwork(\n",
      "  (flatten): Flatten(start_dim=1, end_dim=-1)\n",
      "  (linear_relu_stack): Sequential(\n",
      "    (0): Linear(in_features=784, out_features=512, bias=True)\n",
      "    (1): ReLU()\n",
      "    (2): Linear(in_features=512, out_features=512, bias=True)\n",
      "    (3): ReLU()\n",
      "    (4): Linear(in_features=512, out_features=10, bias=True)\n",
      "  )\n",
      ")\n"
     ]
    }
   ],
   "metadata": {}
  },
  {
   "cell_type": "code",
   "execution_count": 6,
   "source": [
    "# 向模型中传入数据\n",
    "X = torch.rand(1, 28, 28, device=device)\n",
    "logits = model(X)\n",
    "pred_probab = nn.Softmax(dim=1)(logits)  # 注意加(dim=1) 列\n",
    "y_pred = pred_probab.argmax(1)  #最大值\n",
    "print(f\"Predicted class: {y_pred}\")"
   ],
   "outputs": [
    {
     "output_type": "stream",
     "name": "stdout",
     "text": [
      "Predicted class: tensor([1])\n"
     ]
    }
   ],
   "metadata": {}
  },
  {
   "cell_type": "markdown",
   "source": [
    "## 分层分析"
   ],
   "metadata": {}
  },
  {
   "cell_type": "code",
   "execution_count": 7,
   "source": [
    "# 以3张图像为minibatch为例子\n",
    "input_image = torch.rand(3,28,28)\n",
    "print(input_image.size())"
   ],
   "outputs": [
    {
     "output_type": "stream",
     "name": "stdout",
     "text": [
      "torch.Size([3, 28, 28])\n"
     ]
    }
   ],
   "metadata": {}
  },
  {
   "cell_type": "code",
   "execution_count": 8,
   "source": [
    "# 铺平\n",
    "flatten = nn.Flatten()\n",
    "flat_image = flatten(input_image)\n",
    "print(flat_image.size())"
   ],
   "outputs": [
    {
     "output_type": "stream",
     "name": "stdout",
     "text": [
      "torch.Size([3, 784])\n"
     ]
    }
   ],
   "metadata": {}
  },
  {
   "cell_type": "code",
   "execution_count": 9,
   "source": [
    "# 线性层是一个模块，它使用其存储的权重和偏差对输入应用线性变换。\n",
    "layer1 = nn.Linear(in_features=28*28, out_features=20)\n",
    "hidden1 = layer1(flat_image)\n",
    "print(hidden1.size())"
   ],
   "outputs": [
    {
     "output_type": "stream",
     "name": "stdout",
     "text": [
      "torch.Size([3, 20])\n"
     ]
    }
   ],
   "metadata": {}
  },
  {
   "cell_type": "code",
   "execution_count": 10,
   "source": [
    "# ReLU\n",
    "# 非线性激活在模型的输入和输出之间创建复杂的映射。它们应用于线性变换后引入非线性，帮助神经网络学习各种各样的现象。\n",
    "print(f\"Before ReLU: {hidden1}\\n\\n\")\n",
    "hidden1 = nn.ReLU()(hidden1)\n",
    "print(f\"After ReLU: {hidden1}\")"
   ],
   "outputs": [
    {
     "output_type": "stream",
     "name": "stdout",
     "text": [
      "Before ReLU: tensor([[-0.0672, -0.3819,  0.4734, -0.1601,  0.4468, -0.0515, -0.1005, -0.2303,\n",
      "         -0.2208,  0.1420,  0.1256,  0.2804,  0.3876,  0.4575,  0.0914, -0.0508,\n",
      "         -0.3695, -0.4391,  0.0090,  0.4726],\n",
      "        [ 0.2146, -0.4304,  0.3262, -0.2682,  0.3640, -0.0693, -0.1019, -0.1205,\n",
      "         -0.3293,  0.1448,  0.2999,  0.7261, -0.2730,  0.5481,  0.0859,  0.2990,\n",
      "         -0.4373, -0.5027, -0.2479,  0.5150],\n",
      "        [-0.0042,  0.0893,  0.4308, -0.4727,  0.2384, -0.0752, -0.1041, -0.0566,\n",
      "         -0.3260, -0.0075,  0.1022,  0.5125, -0.4894,  0.3087,  0.2494, -0.0634,\n",
      "          0.0554, -0.6367, -0.1541,  0.3920]], grad_fn=<AddmmBackward>)\n",
      "\n",
      "\n",
      "After ReLU: tensor([[0.0000, 0.0000, 0.4734, 0.0000, 0.4468, 0.0000, 0.0000, 0.0000, 0.0000,\n",
      "         0.1420, 0.1256, 0.2804, 0.3876, 0.4575, 0.0914, 0.0000, 0.0000, 0.0000,\n",
      "         0.0090, 0.4726],\n",
      "        [0.2146, 0.0000, 0.3262, 0.0000, 0.3640, 0.0000, 0.0000, 0.0000, 0.0000,\n",
      "         0.1448, 0.2999, 0.7261, 0.0000, 0.5481, 0.0859, 0.2990, 0.0000, 0.0000,\n",
      "         0.0000, 0.5150],\n",
      "        [0.0000, 0.0893, 0.4308, 0.0000, 0.2384, 0.0000, 0.0000, 0.0000, 0.0000,\n",
      "         0.0000, 0.1022, 0.5125, 0.0000, 0.3087, 0.2494, 0.0000, 0.0554, 0.0000,\n",
      "         0.0000, 0.3920]], grad_fn=<ReluBackward0>)\n"
     ]
    }
   ],
   "metadata": {}
  },
  {
   "cell_type": "code",
   "execution_count": 11,
   "source": [
    "# nn.Sequential是模块的有序容器。\n",
    "# 数据按照定义的顺序传递给所有模块。您可以使用顺序容器将类似seq_modules的快速网络组合在一起。\n",
    "seq_modules = nn.Sequential(\n",
    "    flatten,\n",
    "    layer1,\n",
    "    nn.ReLU(),\n",
    "    nn.Linear(20, 10)\n",
    ")\n",
    "input_image = torch.rand(3,28,28)\n",
    "logits = seq_modules(input_image)"
   ],
   "outputs": [],
   "metadata": {}
  },
  {
   "cell_type": "code",
   "execution_count": 12,
   "source": [
    "# 神经网络的最后一个线性层返回logits -原始值[-infty, infty] -这些值被传递给nn.Softmax\n",
    "softmax = nn.Softmax(dim=1)\n",
    "pred_probab = softmax(logits)"
   ],
   "outputs": [],
   "metadata": {}
  },
  {
   "cell_type": "code",
   "execution_count": 13,
   "source": [
    "# 神经网络内部的许多层都是参数化的，即在训练过程中有相关的权重和偏差被优化。\n",
    "# 子类nn.Module模块自动跟踪模型对象中定义的所有字段，并使用模型的parameters()或named_parameters()方法访问所有参数。\n",
    "print(\"Model structure: \", model, \"\\n\\n\")\n",
    "\n",
    "for name, param in model.named_parameters():\n",
    "    print(f\"Layer: {name} | Size: {param.size()} | Values : {param[:2]} \\n\")"
   ],
   "outputs": [
    {
     "output_type": "stream",
     "name": "stdout",
     "text": [
      "Model structure:  NeuralNetwork(\n",
      "  (flatten): Flatten(start_dim=1, end_dim=-1)\n",
      "  (linear_relu_stack): Sequential(\n",
      "    (0): Linear(in_features=784, out_features=512, bias=True)\n",
      "    (1): ReLU()\n",
      "    (2): Linear(in_features=512, out_features=512, bias=True)\n",
      "    (3): ReLU()\n",
      "    (4): Linear(in_features=512, out_features=10, bias=True)\n",
      "  )\n",
      ") \n",
      "\n",
      "\n",
      "Layer: linear_relu_stack.0.weight | Size: torch.Size([512, 784]) | Values : tensor([[ 0.0072,  0.0114,  0.0164,  ...,  0.0298, -0.0242,  0.0181],\n",
      "        [-0.0310, -0.0290,  0.0341,  ...,  0.0167,  0.0087,  0.0139]],\n",
      "       grad_fn=<SliceBackward>) \n",
      "\n",
      "Layer: linear_relu_stack.0.bias | Size: torch.Size([512]) | Values : tensor([-0.0137,  0.0260], grad_fn=<SliceBackward>) \n",
      "\n",
      "Layer: linear_relu_stack.2.weight | Size: torch.Size([512, 512]) | Values : tensor([[-0.0419,  0.0164, -0.0154,  ..., -0.0149, -0.0316,  0.0308],\n",
      "        [-0.0328,  0.0026, -0.0370,  ...,  0.0411, -0.0149, -0.0287]],\n",
      "       grad_fn=<SliceBackward>) \n",
      "\n",
      "Layer: linear_relu_stack.2.bias | Size: torch.Size([512]) | Values : tensor([-0.0093,  0.0233], grad_fn=<SliceBackward>) \n",
      "\n",
      "Layer: linear_relu_stack.4.weight | Size: torch.Size([10, 512]) | Values : tensor([[ 0.0235, -0.0133,  0.0281,  ..., -0.0157, -0.0069,  0.0335],\n",
      "        [-0.0017, -0.0079,  0.0406,  ..., -0.0344, -0.0425,  0.0197]],\n",
      "       grad_fn=<SliceBackward>) \n",
      "\n",
      "Layer: linear_relu_stack.4.bias | Size: torch.Size([10]) | Values : tensor([-0.0214,  0.0152], grad_fn=<SliceBackward>) \n",
      "\n"
     ]
    }
   ],
   "metadata": {}
  }
 ],
 "metadata": {
  "orig_nbformat": 4,
  "language_info": {
   "name": "python",
   "version": "3.8.11",
   "mimetype": "text/x-python",
   "codemirror_mode": {
    "name": "ipython",
    "version": 3
   },
   "pygments_lexer": "ipython3",
   "nbconvert_exporter": "python",
   "file_extension": ".py"
  },
  "kernelspec": {
   "name": "python3",
   "display_name": "Python 3.8.11 64-bit ('Py38': conda)"
  },
  "interpreter": {
   "hash": "62792cbd3b5bf2807c49140b9dd77f3574e6f3863eef786f6f586b1ba9747cfd"
  }
 },
 "nbformat": 4,
 "nbformat_minor": 2
}