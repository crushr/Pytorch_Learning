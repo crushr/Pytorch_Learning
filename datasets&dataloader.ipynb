{
 "cells": [
  {
   "cell_type": "markdown",
   "source": [
    "## 数据集和数据加载\n",
    "处理数据样本的代码可能会变得混乱且难以维护;理想情况下，我们希望数据集代码与模型训练代码解耦，以获得更好的可读性和模块化。  \n",
    "PyTorch提供了两个数据原语:torch.utils.data.DataLoader和torch.utils.data.Dataset，它们允许您使用预加载的数据集以及您自己的数据。  \n",
    "数据集存储样本及其对应的标签，DataLoader围绕数据集包装了一个可迭代对象，以方便访问样本。  \n",
    "\n",
    "PyTorch域库提供了许多预加载的数据集(如FashionMNIST)，它们是torch.util .data. dataset的子类，并实现特定于特定数据的函数。  \n",
    "它们可以用于原型和基准测试你的模型。你可以在这里找到它们:图像数据集、文本数据集和音频数据集"
   ],
   "metadata": {}
  },
  {
   "cell_type": "markdown",
   "source": [
    "## 加载数据集"
   ],
   "metadata": {}
  },
  {
   "cell_type": "code",
   "execution_count": 3,
   "source": [
    "# 下面是一个如何从TorchVision加载Fashion-MNIST数据集的例子。\n",
    "# fashionmnist是Zalando文章图像的数据集，包含6万个训练示例和1万个测试示例。\n",
    "# 每个示例包含28×28灰度图像和来自10个类之一的相关标签。\n",
    "# 我们用以下参数加载FashionMNIST数据集:\n",
    "# root 是列/测试数据存储的路径，\n",
    "# train 指定训练或测试数据集，\n",
    "# download=True 从互联网下载数据，如果它不在root下。\n",
    "# transform和target_transform指定特征和标签转换\n",
    "\n",
    "import torch\n",
    "from torch.utils.data import Dataset\n",
    "from torchvision import datasets\n",
    "from torchvision.transforms import ToTensor\n",
    "import matplotlib.pyplot as plt\n",
    "\n",
    "training_data = datasets.FashionMNIST(\n",
    "    root=\"data\",\n",
    "    train=True,\n",
    "    download=False,\n",
    "    transform=ToTensor()\n",
    ")\n",
    "\n",
    "test_data = datasets.FashionMNIST(\n",
    "    root=\"data\",\n",
    "    train=False,\n",
    "    download=False,\n",
    "    transform=ToTensor()\n",
    ")"
   ],
   "outputs": [
    {
     "output_type": "stream",
     "name": "stderr",
     "text": [
      "/Users/zhongshannan/opt/anaconda3/envs/Py38/lib/python3.8/site-packages/torchvision/datasets/mnist.py:498: UserWarning: The given NumPy array is not writeable, and PyTorch does not support non-writeable tensors. This means you can write to the underlying (supposedly non-writeable) NumPy array using the tensor. You may want to copy the array to protect its data or make it writeable before converting it to a tensor. This type of warning will be suppressed for the rest of this program. (Triggered internally at  /Users/distiller/project/conda/conda-bld/pytorch_1623459044803/work/torch/csrc/utils/tensor_numpy.cpp:180.)\n",
      "  return torch.from_numpy(parsed.astype(m[2], copy=False)).view(*s)\n"
     ]
    }
   ],
   "metadata": {}
  },
  {
   "cell_type": "markdown",
   "source": [
    "## 迭代和可视化数据集"
   ],
   "metadata": {}
  },
  {
   "cell_type": "code",
   "execution_count": 4,
   "source": [
    "# 我们可以像列表一样手动索引数据集：training_data[index]。\n",
    "# 我们使用 matplotlib 来可视化我们训练数据中的一些样本。\n",
    "\n",
    "labels_map = {\n",
    "    0: \"T-Shirt\",\n",
    "    1: \"Trouser\",\n",
    "    2: \"Pullover\",\n",
    "    3: \"Dress\",\n",
    "    4: \"Coat\",\n",
    "    5: \"Sandal\",\n",
    "    6: \"Shirt\",\n",
    "    7: \"Sneaker\",\n",
    "    8: \"Bag\",\n",
    "    9: \"Ankle Boot\",\n",
    "}\n",
    "\n",
    "figure = plt.figure(figsize=(8, 8))\n",
    "cols, rows = 3, 3\n",
    "for i in range(1, cols*rows+1):\n",
    "    sample_idx = torch.randint(len(training_data), size=(1,)).item()  # 随机取样本索引\n",
    "    img, label = training_data[sample_idx]  #根据随机索引取出图片、标签\n",
    "    figure.add_subplot(rows, cols, i)\n",
    "    plt.title(labels_map[label])\n",
    "    plt.axis(\"off\")\n",
    "    plt.imshow(img.squeeze(), cmap=\"gray\")\n",
    "plt.show()"
   ],
   "outputs": [
    {
     "output_type": "display_data",
     "data": {
      "image/png": "[encoded data removed]",
      "text/plain": [
       "<Figure size 576x576 with 9 Axes>"
      ]
     },
     "metadata": {
      "needs_background": "light"
     }
    }
   ],
   "metadata": {}
  },
  {
   "cell_type": "markdown",
   "source": [
    "## 创建自定义数据集"
   ],
   "metadata": {}
  },
  {
   "cell_type": "code",
   "execution_count": 5,
   "source": [
    "# 自定义数据集类必须实现三个函数:__init__、__len__和__getitem__。\n",
    "# FashionMNIST图像存储在目录img_dir中，它们的标签分别存储在CSV文件annotations_file中。\n",
    "\n",
    "import os\n",
    "import pandas as pd\n",
    "from torchvision.io import read_image\n",
    "\n",
    "class CustomImageDataset(Dataset):\n",
    "\n",
    "    # 初始化图像、注释文件、两种转换的目录\n",
    "    def __init__(self, annotations_file, img_dir, transform=None, target_transform=None):\n",
    "        self.image_labels = pd.read_csv(annotations_file)\n",
    "        self.img_dir = img_dir\n",
    "        self.transform = transform\n",
    "        self.target_transform = target_transform\n",
    "\n",
    "    # __len__ 函数返回我们数据集中的样本数\n",
    "    def __len__(self):\n",
    "        return len(self.image_labels)\n",
    "    \n",
    "    # __getitem__函数从给定索引idx处的数据集加载并返回一个示例\n",
    "    # 基于索引，它识别图像在磁盘上的位置，使用read_image将其转换为一个张量\n",
    "    # 从self中的csv数据中检索相应的标签。Img_labels\n",
    "    # 调用它们上的转换函数(如果适用的话)，并返回一个元组中的张量图像和相应的标签\n",
    "    def __getitem__(self, idx):\n",
    "        img_path =  os.path.join(self.img_dir, self.image_labels.iloc[idx, 0])\n",
    "        image = read_image(img_path)  \n",
    "        label = self.image_labels.iloc[idx, 1]\n",
    "        if self.transform:\n",
    "            image = self.transform(image)\n",
    "        if self.target_transform:\n",
    "            label = self.target_transform(label)\n",
    "        return image, label"
   ],
   "outputs": [],
   "metadata": {}
  },
  {
   "cell_type": "markdown",
   "source": [
    "## 使用DataLoader为训练准备数据\n",
    "\n",
    "数据集每次检索一个样本的数据集的特征和标签。在训练模型时，我们通常希望以“minibatches”传递样本，在每个epoch重新洗选数据以减少模型过拟合，并使用Python的多处理来加速数据检索。  \n",
    "\n",
    "DataLoader是一个可迭代对象，它通过一个简单的API为我们抽象了这种复杂性。"
   ],
   "metadata": {}
  },
  {
   "cell_type": "code",
   "execution_count": 6,
   "source": [
    "from torch.utils.data import DataLoader\n",
    "\n",
    "train_dataloader = DataLoader(training_data, batch_size=64, shuffle=True)\n",
    "test_dataloader = DataLoader(test_data, batch_size=64, shuffle=True)"
   ],
   "outputs": [],
   "metadata": {}
  },
  {
   "cell_type": "markdown",
   "source": [
    "## 通过Dataloader进行迭代\n",
    "我们已经将该数据集加载到DataLoader中，并可以根据需要遍历该数据集。  \n",
    "下面的每次迭代都返回一批train_features和train_labels(分别包含batch_size=64个特征和标签)。  \n",
    "因为我们指定了shuffle=True，所以在我们遍历所有批次之后，数据就会被打乱。"
   ],
   "metadata": {}
  },
  {
   "cell_type": "code",
   "execution_count": 7,
   "source": [
    "train_features, train_labels = next(iter(train_dataloader))  #遍历一个iter\n",
    "print(f\"Feature batch shape: {train_features.size()}\")\n",
    "print(f\"Labels batch shape: {train_labels.size()}\")"
   ],
   "outputs": [
    {
     "output_type": "stream",
     "name": "stdout",
     "text": [
      "Feature batch shape: torch.Size([64, 1, 28, 28])\n",
      "Labels batch shape: torch.Size([64])\n"
     ]
    }
   ],
   "metadata": {}
  }
 ],
 "metadata": {
  "orig_nbformat": 4,
  "language_info": {
   "name": "python",
   "version": "3.8.11",
   "mimetype": "text/x-python",
   "codemirror_mode": {
    "name": "ipython",
    "version": 3
   },
   "pygments_lexer": "ipython3",
   "nbconvert_exporter": "python",
   "file_extension": ".py"
  },
  "kernelspec": {
   "name": "python3",
   "display_name": "Python 3.8.11 64-bit ('Py38': conda)"
  },
  "interpreter": {
   "hash": "62792cbd3b5bf2807c49140b9dd77f3574e6f3863eef786f6f586b1ba9747cfd"
  }
 },
 "nbformat": 4,
 "nbformat_minor": 2
}